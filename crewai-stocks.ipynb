{
 "cells": [
  {
   "cell_type": "code",
   "execution_count": null,
   "metadata": {},
   "outputs": [],
   "source": [
    "#Instalação das libs\n",
    "#!pip install yfinance\n",
    "#!pip install crewai\n",
    "#!pip install 'crewai[tools]'\n",
    "\n",
    "#!python.exe -m pip install --upgrade pip\n",
    "\n",
    "\n",
    "#python.exe -m pip install --upgrade pip\n",
    "\n",
    "#!pip install duckduckgo_search\n",
    "\n",
    "#!pip install langchain\n",
    "#!pip install langchain-openai\n",
    "#!pip install langchain-community\n",
    "\n",
    "\n",
    "#!pip install crewai crewai-tools"
   ]
  },
  {
   "cell_type": "code",
   "execution_count": 88,
   "metadata": {},
   "outputs": [],
   "source": [
    "#Import das libs\n",
    "import json\n",
    "import os\n",
    "from datetime import datetime\n",
    "\n",
    "import yfinance as yf\n",
    "\n",
    "from crewai import Agent, Task, Crew, Process\n",
    "\n",
    "from langchain.tools import Tool\n",
    "from langchain_openai import ChatOpenAI\n",
    "from langchain_community.tools import DuckDuckGoSearchResults"
   ]
  },
  {
   "cell_type": "code",
   "execution_count": 89,
   "metadata": {},
   "outputs": [],
   "source": [
    "#Criando Tool Fincance Tool\n",
    "def fetch_stock_price(ticket):\n",
    "    stock = yf.download(ticket, start=\"2023-08-08\", end=\"2024-08-16\")\n",
    "    return stock\n",
    "\n",
    "yahoo_finance_tool = Tool(\n",
    "    name = \"Yahoo finance Tool\",\n",
    "    description = \"Fetches stocks prices for {ticket} from the last year about a specific company from Yahoo Finance API\",\n",
    "    func= lambda ticket: fetch_stock_price(ticket)\n",
    ")"
   ]
  },
  {
   "cell_type": "code",
   "execution_count": 90,
   "metadata": {},
   "outputs": [],
   "source": [
    "#Importando OPENAI LLM - GPT\n",
    "os.environ['OPENAI_API_KEY'] = \"SecretKEY\"\n",
    "llm = ChatOpenAI(model=\"gpt-3.5-turbo\")"
   ]
  },
  {
   "cell_type": "code",
   "execution_count": 91,
   "metadata": {},
   "outputs": [],
   "source": [
    "stockPriceAnalyst = Agent(\n",
    "    role=\"Senior stock price Analyst\",\n",
    "    goal=\"Find the {ticket} stock price and analyses trends\",\n",
    "    backstory=\"\"\"\"You're a highly experienced in analyzing the price of an specific stock and make predictions about its future prices.\"\"\",\n",
    "    verbose= True,\n",
    "    llm= llm,\n",
    "    max_iter= 5,\n",
    "    memory= True,\n",
    "    allow_delegation= False,\n",
    "    tools=[yahoo_finance_tool]\n",
    ")"
   ]
  },
  {
   "cell_type": "code",
   "execution_count": 92,
   "metadata": {},
   "outputs": [],
   "source": [
    "getStockPrice = Task(\n",
    "    description=\"Analyze the stock {ticket} price history and create a trend analyses of up, down or sideways\",\n",
    "    expected_output=\"\"\"\" Specify the current trend stock price - up, down or sideways.\n",
    "     eg. stock= 'APPL, price UP' \"\"\",\n",
    "     agent= stockPriceAnalyst\n",
    ")"
   ]
  },
  {
   "cell_type": "code",
   "execution_count": 77,
   "metadata": {},
   "outputs": [],
   "source": [
    "#import a tool de search\n",
    "search_tool = DuckDuckGoSearchResults(backend='news', num_results=10)"
   ]
  },
  {
   "cell_type": "code",
   "execution_count": 93,
   "metadata": {},
   "outputs": [],
   "source": [
    "newsAnalyst = Agent(\n",
    "    role=\"Stock News Analyst\",\n",
    "    goal=\"\"\"Create a short summary of the market news related to the stock {ticket} company. Specify the current trend - up, down or sideways with the news context.\n",
    "    For each request stock asset, specify a number between 0 and 100, where 0 is extreme fear and 100 is extreme greed.\"\"\",\n",
    "    backstory=\"\"\"\"You're a highly experienced in analyzing the marcket trends and news and have tracked assets for more then 10 years.\n",
    "\n",
    "    You're also master level in analyst in the tradicional markets and have deep undestanding of human psychology.\n",
    "\n",
    "    You undestand news, theirs tittles and information, but you look at those with a health dose of skepticism. You consider also the source of the news articles.\n",
    "    \"\"\",\n",
    "    verbose= True,\n",
    "    llm= llm,\n",
    "    max_iter= 10,\n",
    "    memory= True,\n",
    "    allow_delegation= False,\n",
    "    tools=[search_tool]\n",
    ")"
   ]
  },
  {
   "cell_type": "code",
   "execution_count": 94,
   "metadata": {},
   "outputs": [],
   "source": [
    "get_news = Task(\n",
    "    description=f\"\"\"Take the stock and always include BTC to it (if not request).\n",
    "    Use the search tool to search each one individually.\n",
    "\n",
    "    The current date is {datetime.now()},\n",
    "\n",
    "    Compose the results into a helpfull report\"\"\",\n",
    "    expected_output =\"\"\"A summary of the overall market and one sentence summary for each request asset.\n",
    "    Include a fear/greed score for each asset based on the news. Use format:\n",
    "    <STOCK ASSET>\n",
    "    <SUMMARY BASED ON NEWS>\n",
    "    <TREND PREDICTION>\n",
    "    <FEAR/GREED SCORE>\n",
    "    \"\"\",\n",
    "    agent=newsAnalyst\n",
    ")"
   ]
  },
  {
   "cell_type": "code",
   "execution_count": 95,
   "metadata": {},
   "outputs": [],
   "source": [
    "stockAnalystWrite = Agent(\n",
    "    role=\"Stock Senior Analyst Writer\",\n",
    "    goal=\"\"\"Analyze the trends price and news and write an insighfull compelling and informative 3 paragraph long newsletter based on the stock report and price trend.\"\"\",\n",
    "    backstory=\"\"\"\"You're a widely accepted as the best stock analyst in the market. You undestand complex concepts and create compelling stories \n",
    "    and narratives that resonate with wider audiences.\n",
    "\n",
    "    You undestand macro factors and combine multiple theories - eg. cycle theory and fundamental analyses. You are able to hold multiple opinions when analyzing anything.\n",
    "    \"\"\",\n",
    "    verbose= True,\n",
    "    llm= llm,\n",
    "    max_iter= 5,\n",
    "    memory= True,\n",
    "    allow_delegation= True\n",
    ")"
   ]
  },
  {
   "cell_type": "code",
   "execution_count": 96,
   "metadata": {},
   "outputs": [],
   "source": [
    "writeAnalyses = Task(\n",
    "    description=\"\"\"\"Use the stock price trend and stock news report to create an analyses and write the newsletter about the {ticket} company\n",
    "    tha is brief and highlights the most importante points.\n",
    "    Focus on the stock price trend, news and fear/greed score. What are the newa future considerations?\n",
    "    Include the previos analyses of stock trend and news summary \n",
    "    \"\"\",\n",
    "    expected_output=\"\"\"\"An eloquent 3 paragraphs newsletter formated as markdown in an easy manner. It should contain:\n",
    "\n",
    "    -3 bullets executive summary\n",
    "    - Introduction - set the overall picture and spike up the interest\n",
    "    - main part provides the meat of the analysis including the news summary and fear/greed scores\n",
    "    - summary - key facts and concrete future trend prediction - up, down or sideways\n",
    "    \"\"\",\n",
    "    agent= stockAnalystWrite,\n",
    "    context = [getStockPrice, get_news]\n",
    ")"
   ]
  },
  {
   "cell_type": "code",
   "execution_count": 97,
   "metadata": {},
   "outputs": [
    {
     "name": "stderr",
     "output_type": "stream",
     "text": [
      "2024-08-20 18:42:10,665 - 15488 - __init__.py-__init__:531 - WARNING: Overriding of current TracerProvider is not allowed\n"
     ]
    }
   ],
   "source": [
    "crew = Crew(\n",
    "    agents = [stockPriceAnalyst, newsAnalyst, stockAnalystWrite],\n",
    "    tasks = [getStockPrice, get_news, writeAnalyses],\n",
    "    verbose= True,\n",
    "    process = Process.hierarchical,\n",
    "    full_output = True,\n",
    "    share_crew = False,\n",
    "    manager_llm = llm,\n",
    "    max_iter = 15\n",
    ")"
   ]
  },
  {
   "cell_type": "code",
   "execution_count": 98,
   "metadata": {},
   "outputs": [
    {
     "name": "stdout",
     "output_type": "stream",
     "text": [
      "\u001b[1m\u001b[95m [2024-08-20 18:42:13][DEBUG]: == Working Agent: Crew Manager\u001b[00m\n",
      "\u001b[1m\u001b[95m [2024-08-20 18:42:13][INFO]: == Starting Task: Analyze the stock AAPL price history and create a trend analyses of up, down or sideways\u001b[00m\n",
      "\n",
      "\n",
      "\u001b[1m> Entering new CrewAgentExecutor chain...\u001b[0m\n",
      "\u001b[32;1m\u001b[1;3m\u001b[0m\n",
      "\n",
      "\u001b[1m> Finished chain.\u001b[0m\n",
      "\u001b[1m\u001b[92m [2024-08-20 18:43:41][DEBUG]: == [Crew Manager] Task output: Agent stopped due to iteration limit or time limit.\n",
      "\n",
      "\u001b[00m\n",
      "\u001b[1m\u001b[95m [2024-08-20 18:43:41][DEBUG]: == Working Agent: Crew Manager\u001b[00m\n",
      "\u001b[1m\u001b[95m [2024-08-20 18:43:41][INFO]: == Starting Task: Take the stock and always include BTC to it (if not request).\n",
      "    Use the search tool to search each one individually.\n",
      "\n",
      "    The current date is 2024-08-20 18:42:04.338359,\n",
      "\n",
      "    Compose the results into a helpfull report\u001b[00m\n",
      "\n",
      "\n",
      "\u001b[1m> Entering new CrewAgentExecutor chain...\u001b[0m\n",
      "\u001b[32;1m\u001b[1;3m\u001b[0m\n",
      "\n",
      "\u001b[1m> Finished chain.\u001b[0m\n",
      "\u001b[1m\u001b[92m [2024-08-20 18:45:10][DEBUG]: == [Crew Manager] Task output: Agent stopped due to iteration limit or time limit.\n",
      "\n",
      "\u001b[00m\n",
      "\u001b[1m\u001b[95m [2024-08-20 18:45:10][DEBUG]: == Working Agent: Crew Manager\u001b[00m\n",
      "\u001b[1m\u001b[95m [2024-08-20 18:45:10][INFO]: == Starting Task: \"Use the stock price trend and stock news report to create an analyses and write the newsletter about the AAPL company\n",
      "    tha is brief and highlights the most importante points.\n",
      "    Focus on the stock price trend, news and fear/greed score. What are the newa future considerations?\n",
      "    Include the previos analyses of stock trend and news summary \n",
      "    \u001b[00m\n",
      "\n",
      "\n",
      "\u001b[1m> Entering new CrewAgentExecutor chain...\u001b[0m\n",
      "\u001b[32;1m\u001b[1;3m\u001b[0m\n",
      "\n",
      "\u001b[1m> Finished chain.\u001b[0m\n",
      "\u001b[1m\u001b[92m [2024-08-20 18:46:38][DEBUG]: == [Crew Manager] Task output: Agent stopped due to iteration limit or time limit.\n",
      "\n",
      "\u001b[00m\n"
     ]
    }
   ],
   "source": [
    "results = crew.kickoff(inputs={'ticket': 'AAPL'})\n",
    "\n",
    "#response = yahoo_finance_tool.run(\"AAPL\")"
   ]
  }
 ],
 "metadata": {
  "kernelspec": {
   "display_name": "Python 3",
   "language": "python",
   "name": "python3"
  },
  "language_info": {
   "codemirror_mode": {
    "name": "ipython",
    "version": 3
   },
   "file_extension": ".py",
   "mimetype": "text/x-python",
   "name": "python",
   "nbconvert_exporter": "python",
   "pygments_lexer": "ipython3",
   "version": "3.11.4"
  }
 },
 "nbformat": 4,
 "nbformat_minor": 2
}
